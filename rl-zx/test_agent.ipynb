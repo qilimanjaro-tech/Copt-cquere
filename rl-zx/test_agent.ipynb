{
 "cells": [
  {
   "cell_type": "code",
   "execution_count": 1,
   "metadata": {},
   "outputs": [],
   "source": [
    "from rl_agent import AgentGNN\n",
    "import gym_zx\n",
    "import gymnasium as gym\n",
    "import torch\n",
    "from torch_geometric.data import Batch, Data\n",
    "import pyzx as zx"
   ]
  },
  {
   "cell_type": "code",
   "execution_count": 2,
   "metadata": {},
   "outputs": [
    {
     "data": {
      "text/plain": [
       "AgentGNN(\n",
       "  (global_attention_critic): AttentionalAggregation(gate_nn=Sequential(\n",
       "    (0): Linear(in_features=32, out_features=32, bias=True)\n",
       "    (1): ReLU()\n",
       "    (2): Linear(in_features=32, out_features=32, bias=True)\n",
       "    (3): ReLU()\n",
       "    (4): Linear(in_features=32, out_features=1, bias=True)\n",
       "  ), nn=Sequential(\n",
       "    (0): Linear(in_features=32, out_features=32, bias=True)\n",
       "    (1): ReLU()\n",
       "    (2): Linear(in_features=32, out_features=32, bias=True)\n",
       "    (3): ReLU()\n",
       "  ))\n",
       "  (critic_gnn): Sequential(\n",
       "    (0): GATv2Conv(12, 32, heads=1)\n",
       "    (1): ReLU()\n",
       "    (2): GATv2Conv(32, 32, heads=1)\n",
       "    (3): ReLU()\n",
       "    (4): GATv2Conv(32, 32, heads=1)\n",
       "    (5): ReLU()\n",
       "    (6): GATv2Conv(32, 32, heads=1)\n",
       "    (7): ReLU()\n",
       "    (8): GATv2Conv(32, 32, heads=1)\n",
       "    (9): ReLU()\n",
       "  )\n",
       "  (actor_gnn): Sequential(\n",
       "    (0): GATv2Conv(17, 32, heads=1)\n",
       "    (1): ReLU()\n",
       "    (2): GATv2Conv(32, 32, heads=1)\n",
       "    (3): ReLU()\n",
       "    (4): GATv2Conv(32, 32, heads=1)\n",
       "    (5): ReLU()\n",
       "    (6): GATv2Conv(32, 32, heads=1)\n",
       "    (7): ReLU()\n",
       "    (8): GATv2Conv(32, 32, heads=1)\n",
       "    (9): ReLU()\n",
       "    (10): Linear(in_features=32, out_features=32, bias=True)\n",
       "    (11): ReLU()\n",
       "    (12): Linear(in_features=32, out_features=1, bias=True)\n",
       "  )\n",
       "  (critic_ff): Sequential(\n",
       "    (0): Linear(in_features=32, out_features=32, bias=True)\n",
       "    (1): ReLU()\n",
       "    (2): Linear(in_features=32, out_features=32, bias=True)\n",
       "    (3): ReLU()\n",
       "    (4): Linear(in_features=32, out_features=1, bias=True)\n",
       "  )\n",
       ")"
      ]
     },
     "execution_count": 2,
     "metadata": {},
     "output_type": "execute_result"
    }
   ],
   "source": [
    "SrH_env = gym.make(\"zx-v0\", qubits=12, depth=None, env_id=1)\n",
    "device = torch.device(\"cuda\" if torch.cuda.is_available() else \"cpu\")\n",
    "rl_agent = AgentGNN(None,device=device).to(device)\n",
    "rl_agent.load_state_dict(\n",
    "        torch.load(\"/home/jnogue/qilimanjaro/Copt-cquere/rl-zx/state_dict_2150400model5x70_twoqubits_new.pt\", map_location=torch.device(\"cpu\"))\n",
    "    )  \n",
    "rl_agent.eval()\n"
   ]
  },
  {
   "cell_type": "code",
   "execution_count": 80,
   "metadata": {},
   "outputs": [],
   "source": [
    "obs0, reset_info = SrH_env.reset()\n",
    "policy_items, value_items = reset_info[\"graph_obs\"]\n",
    "value_graph = [Data(x=value_items[0], edge_index=value_items[1], edge_attr=value_items[2])]\n",
    "policy_graph = [Data(x=policy_items[0], edge_index=policy_items[1], edge_attr=policy_items[2], y=policy_items[3])]\n",
    "next_obs_graph = (Batch.from_data_list(policy_graph), Batch.from_data_list(value_graph))"
   ]
  },
  {
   "cell_type": "code",
   "execution_count": 81,
   "metadata": {},
   "outputs": [
    {
     "name": "stdout",
     "output_type": "stream",
     "text": [
      "Win vs Pyzx:  -1  Episode Gates:  72 Cflow_gates:  33 Episode Len 125 Opt Episode Len 88\n"
     ]
    }
   ],
   "source": [
    "\n",
    "done = False\n",
    "while not done:\n",
    "    \n",
    "    action, _, _, value, logits, action_ids = rl_agent.get_action_and_value(next_obs_graph, device=device)\n",
    "    next_obs, reward, done, deprecated, info = SrH_env.step(action_ids.cpu().numpy())\n",
    "    policy_items, value_items = info[\"graph_obs\"]\n",
    "    value_graph = [Data(x=value_items[0], edge_index=value_items[1], edge_attr=value_items[2])]\n",
    "    policy_graph = [Data(x=policy_items[0], edge_index=policy_items[1], edge_attr=policy_items[2], y=policy_items[3])]\n",
    "    next_obs_graph = (Batch.from_data_list(policy_graph), Batch.from_data_list(value_graph))"
   ]
  },
  {
   "cell_type": "code",
   "execution_count": 15,
   "metadata": {},
   "outputs": [
    {
     "name": "stderr",
     "output_type": "stream",
     "text": [
      "/home/jnogue/miniconda3/envs/cquere/lib/python3.10/site-packages/gymnasium/core.py:297: UserWarning: \u001b[33mWARN: env.pyzx_data to get variables from other wrappers is deprecated and will be removed in v1.0, to get this variable you can do `env.unwrapped.pyzx_data` for environment variables or `env.get_attr('pyzx_data')` that will search the reminding wrappers.\u001b[0m\n",
      "  logger.warn(\n"
     ]
    },
    {
     "data": {
      "text/plain": [
       "{'qubits': 12,\n",
       " 'gates': 60,\n",
       " 'tcount': 8,\n",
       " 'clifford': 19,\n",
       " 'CNOT': 26,\n",
       " 'CZ': 7,\n",
       " 'had': 5,\n",
       " 'twoqubits': 33}"
      ]
     },
     "execution_count": 15,
     "metadata": {},
     "output_type": "execute_result"
    }
   ],
   "source": [
    "SrH_env.pyzx_data"
   ]
  },
  {
   "cell_type": "code",
   "execution_count": 19,
   "metadata": {},
   "outputs": [
    {
     "name": "stdout",
     "output_type": "stream",
     "text": [
      "{'qubits': 12, 'gates': 60, 'tcount': 8, 'clifford': 19, 'CNOT': 26, 'CZ': 7, 'had': 5, 'twoqubits': 33}\n"
     ]
    },
    {
     "name": "stderr",
     "output_type": "stream",
     "text": [
      "/home/jnogue/miniconda3/envs/cquere/lib/python3.10/site-packages/gymnasium/core.py:297: UserWarning: \u001b[33mWARN: env.pyzx_data to get variables from other wrappers is deprecated and will be removed in v1.0, to get this variable you can do `env.unwrapped.pyzx_data` for environment variables or `env.get_attr('pyzx_data')` that will search the reminding wrappers.\u001b[0m\n",
      "  logger.warn(\n",
      "/home/jnogue/miniconda3/envs/cquere/lib/python3.10/site-packages/gymnasium/core.py:297: UserWarning: \u001b[33mWARN: env.final_circuit to get variables from other wrappers is deprecated and will be removed in v1.0, to get this variable you can do `env.unwrapped.final_circuit` for environment variables or `env.get_attr('final_circuit')` that will search the reminding wrappers.\u001b[0m\n",
      "  logger.warn(\n"
     ]
    }
   ],
   "source": [
    "data = SrH_env.pyzx_data\n",
    "print(data)\n",
    "circuit = SrH_env.final_circuit\n",
    "\n"
   ]
  },
  {
   "cell_type": "code",
   "execution_count": 65,
   "metadata": {},
   "outputs": [
    {
     "name": "stdout",
     "output_type": "stream",
     "text": [
      "Stats after RL-ZX\n",
      " Circuit  on 12 qubits with 109 gates.\n",
      "        8 is the T-count\n",
      "        101 Cliffords among which\n",
      "        58 2-qubit gates (50 CNOT, 8 other) and\n",
      "        6 Hadamard gates.\n",
      "Stats adding Calum as post processing\n",
      " Circuit  on 12 qubits with 102 gates.\n",
      "        8 is the T-count\n",
      "        94 Cliffords among which\n",
      "        53 2-qubit gates (39 CNOT, 14 other) and\n",
      "        8 Hadamard gates.\n"
     ]
    }
   ],
   "source": [
    "import pyzx as zx\n",
    "graph = SrH_env.final_circuit.to_graph()\n",
    "print(\"Stats after RL-ZX\\n\", SrH_env.final_circuit.stats())\n",
    "final_circuit = flow_opt(SrH_env.final_circuit)\n",
    "print(\"Stats adding Calum as post processing\\n\", final_circuit.stats())\n"
   ]
  },
  {
   "cell_type": "code",
   "execution_count": 18,
   "metadata": {},
   "outputs": [
    {
     "data": {
      "text/plain": [
       "'Circuit  on 12 qubits with 64 gates.\\n        8 is the T-count\\n        56 Cliffords among which\\n        35 2-qubit gates (23 CNOT, 12 other) and\\n        2 Hadamard gates.'"
      ]
     },
     "execution_count": 18,
     "metadata": {},
     "output_type": "execute_result"
    }
   ],
   "source": [
    "circuit.stats()"
   ]
  },
  {
   "cell_type": "code",
   "execution_count": 75,
   "metadata": {},
   "outputs": [
    {
     "name": "stdout",
     "output_type": "stream",
     "text": [
      "Circuit  on 12 qubits with 60 gates.\n",
      "        8 is the T-count\n",
      "        52 Cliffords among which\n",
      "        33 2-qubit gates (26 CNOT, 7 other) and\n",
      "        5 Hadamard gates.\n",
      "Circuit  on 12 qubits with 57 gates.\n",
      "        8 is the T-count\n",
      "        49 Cliffords among which\n",
      "        36 2-qubit gates (31 CNOT, 5 other) and\n",
      "        4 Hadamard gates.\n"
     ]
    }
   ],
   "source": [
    "circuit = zx.Circuit.from_qasm_file(\"/home/jnogue/qilimanjaro/Copt-cquere/rl-zx/cquere/circuits/before/SrH_2.1461_12q.qasm\").to_basic_gates()\n",
    "circ = flow_opt(circuit)\n",
    "final_circ = full_reduce(circuit)\n",
    "print(circ.stats())\n",
    "print(final_circ.stats())\n"
   ]
  },
  {
   "cell_type": "code",
   "execution_count": 74,
   "metadata": {},
   "outputs": [],
   "source": [
    "def basic_optimise(c):\n",
    "    c1 = zx.basic_optimization(c.copy().split_phase_gates()).to_basic_gates()\n",
    "    c2 = zx.basic_optimization(c.copy().split_phase_gates(), do_swaps=True).to_basic_gates()\n",
    "    if c2.twoqubitcount() < c1.twoqubitcount(): return c2 # As this optimisation algorithm is targetted at reducting H-gates, we use the circuit with the smaller 2-qubit gate count here, either using SWAP rules or not.\n",
    "    return c1\n",
    "def flow_opt(c):\n",
    "\n",
    "    c =zx.optimize.basic_optimization(zx.Circuit.from_graph(c.to_graph().copy()).split_phase_gates())\n",
    "    g = c.to_graph()        \n",
    "    zx.teleport_reduce(g)\n",
    "    zx.to_graph_like(g)\n",
    "    zx.flow_2Q_simp(g)\n",
    "    c2 = zx.extract_simple(g).to_basic_gates()\n",
    "    return basic_optimise(c2)\n",
    "\n",
    "def flow_opt_graph(c):\n",
    "    c = zx.optimize.basic_optimization(zx.Circuit.from_graph(c.to_graph().copy()).split_phase_gates())\n",
    "    g = c.to_graph()\n",
    "    basic_circ = zx.optimize.basic_optimization(zx.Circuit.from_graph(g.copy()).split_phase_gates())\n",
    "    graph = basic_circ.to_graph()\n",
    "    zx.simplify.to_gh(graph)\n",
    "    zx.simplify.spider_simp(graph, quiet=True)\n",
    "    zx.to_graph_like(graph)\n",
    "    zx.flow_2Q_simp(graph)\n",
    "    circuit = zx.extract_simple(graph).to_basic_gates()\n",
    "    return basic_optimise(circuit)\n",
    "\n",
    "def full_reduce(c):\n",
    "    c = zx.optimize.basic_optimization(zx.Circuit.from_graph(c.to_graph().copy()).split_phase_gates())\n",
    "    g = c.to_graph()        \n",
    "    zx.teleport_reduce(g)\n",
    "    zx.to_graph_like(g)\n",
    "    zx.full_reduce(g)\n",
    "    circ = zx.extract_circuit(g).to_basic_gates()\n",
    "    return basic_optimise(circ)\n"
   ]
  }
 ],
 "metadata": {
  "kernelspec": {
   "display_name": "rl_zx",
   "language": "python",
   "name": "python3"
  },
  "language_info": {
   "codemirror_mode": {
    "name": "ipython",
    "version": 3
   },
   "file_extension": ".py",
   "mimetype": "text/x-python",
   "name": "python",
   "nbconvert_exporter": "python",
   "pygments_lexer": "ipython3",
   "version": "3.10.14"
  }
 },
 "nbformat": 4,
 "nbformat_minor": 2
}
