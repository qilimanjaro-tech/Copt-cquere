{
 "cells": [
  {
   "cell_type": "code",
   "execution_count": 14,
   "metadata": {},
   "outputs": [],
   "source": [
    "from rl_agent import AgentGNN\n",
    "import gym_zx\n",
    "import gym\n",
    "import torch\n",
    "from torch_geometric.data import Batch, Data"
   ]
  },
  {
   "cell_type": "code",
   "execution_count": 20,
   "metadata": {},
   "outputs": [
    {
     "data": {
      "text/plain": [
       "AgentGNN(\n",
       "  (global_attention_critic): GlobalAttention(gate_nn=Sequential(\n",
       "    (0): Linear(in_features=32, out_features=32, bias=True)\n",
       "    (1): ReLU()\n",
       "    (2): Linear(in_features=32, out_features=32, bias=True)\n",
       "    (3): ReLU()\n",
       "    (4): Linear(in_features=32, out_features=1, bias=True)\n",
       "  ), nn=Sequential(\n",
       "    (0): Linear(in_features=32, out_features=32, bias=True)\n",
       "    (1): ReLU()\n",
       "    (2): Linear(in_features=32, out_features=32, bias=True)\n",
       "    (3): ReLU()\n",
       "  ))\n",
       "  (critic_gnn): Sequential(\n",
       "    (0): GATv2Conv(12, 32, heads=1)\n",
       "    (1): ReLU()\n",
       "    (2): GATv2Conv(32, 32, heads=1)\n",
       "    (3): ReLU()\n",
       "    (4): GATv2Conv(32, 32, heads=1)\n",
       "    (5): ReLU()\n",
       "    (6): GATv2Conv(32, 32, heads=1)\n",
       "    (7): ReLU()\n",
       "    (8): GATv2Conv(32, 32, heads=1)\n",
       "    (9): ReLU()\n",
       "  )\n",
       "  (actor_gnn): Sequential(\n",
       "    (0): GATv2Conv(17, 32, heads=1)\n",
       "    (1): ReLU()\n",
       "    (2): GATv2Conv(32, 32, heads=1)\n",
       "    (3): ReLU()\n",
       "    (4): GATv2Conv(32, 32, heads=1)\n",
       "    (5): ReLU()\n",
       "    (6): GATv2Conv(32, 32, heads=1)\n",
       "    (7): ReLU()\n",
       "    (8): GATv2Conv(32, 32, heads=1)\n",
       "    (9): ReLU()\n",
       "    (10): Linear(in_features=32, out_features=32, bias=True)\n",
       "    (11): ReLU()\n",
       "    (12): Linear(in_features=32, out_features=1, bias=True)\n",
       "  )\n",
       "  (critic_ff): Sequential(\n",
       "    (0): Linear(in_features=32, out_features=32, bias=True)\n",
       "    (1): ReLU()\n",
       "    (2): Linear(in_features=32, out_features=32, bias=True)\n",
       "    (3): ReLU()\n",
       "    (4): Linear(in_features=32, out_features=1, bias=True)\n",
       "  )\n",
       ")"
      ]
     },
     "execution_count": 20,
     "metadata": {},
     "output_type": "execute_result"
    }
   ],
   "source": [
    "SrH_env = gym.make(\"zx-v0\", qubits=6, depth=None, env_id=1)\n",
    "device = torch.device(\"cuda\" if torch.cuda.is_available() else \"cpu\")\n",
    "rl_agent = AgentGNN(None,device=device).to(device)\n",
    "rl_agent.load_state_dict(\n",
    "        torch.load(\"/home/jordi.riu/Copt-cquere/rl-zx/state_dict_0model5x70_twoqubits_new.pt\", map_location=torch.device(\"cpu\"))\n",
    "    )  \n",
    "rl_agent.eval()\n"
   ]
  },
  {
   "cell_type": "code",
   "execution_count": 31,
   "metadata": {},
   "outputs": [],
   "source": [
    "obs0, reset_info = SrH_env.reset()\n",
    "policy_items, value_items = reset_info[\"graph_obs\"]\n",
    "value_graph = [Data(x=value_items[0], edge_index=value_items[1], edge_attr=value_items[2])]\n",
    "policy_graph = [Data(x=policy_items[0], edge_index=policy_items[1], edge_attr=policy_items[2], y=policy_items[3])]\n",
    "next_obs_graph = (Batch.from_data_list(policy_graph), Batch.from_data_list(value_graph))"
   ]
  },
  {
   "cell_type": "code",
   "execution_count": 32,
   "metadata": {},
   "outputs": [
    {
     "name": "stdout",
     "output_type": "stream",
     "text": [
      "Win vs Pyzx:  1  Episode Gates:  74 Single gates: 133 Episode Len 264 Opt Episode Len 227\n"
     ]
    }
   ],
   "source": [
    "\n",
    "done = False\n",
    "while not done:\n",
    "    \n",
    "    action, _, _, value, logits, action_ids = rl_agent.get_action_and_value(next_obs_graph, device=device)\n",
    "    next_obs, reward, done, deprecated, info = SrH_env.step(action_ids.cpu().numpy())\n",
    "    policy_items, value_items = info[\"graph_obs\"]\n",
    "    value_graph = [Data(x=value_items[0], edge_index=value_items[1], edge_attr=value_items[2])]\n",
    "    policy_graph = [Data(x=policy_items[0], edge_index=policy_items[1], edge_attr=policy_items[2], y=policy_items[3])]\n",
    "    next_obs_graph = (Batch.from_data_list(policy_graph), Batch.from_data_list(value_graph))"
   ]
  },
  {
   "cell_type": "code",
   "execution_count": 18,
   "metadata": {},
   "outputs": [
    {
     "data": {
      "text/plain": [
       "{'qubits': 6,\n",
       " 'gates': 150,\n",
       " 'tcount': 24,\n",
       " 'clifford': 47,\n",
       " 'CNOT': 57,\n",
       " 'CZ': 22,\n",
       " 'had': 16,\n",
       " 'twoqubits': 79}"
      ]
     },
     "execution_count": 18,
     "metadata": {},
     "output_type": "execute_result"
    }
   ],
   "source": [
    "SrH_env.pyzx_data"
   ]
  },
  {
   "cell_type": "code",
   "execution_count": 33,
   "metadata": {},
   "outputs": [
    {
     "data": {
      "text/plain": [
       "'Circuit  on 10 qubits with 133 gates.\\n        24 is the T-count\\n        109 Cliffords among which\\n        74 2-qubit gates (59 CNOT, 15 other) and\\n        12 Hadamard gates.'"
      ]
     },
     "execution_count": 33,
     "metadata": {},
     "output_type": "execute_result"
    }
   ],
   "source": [
    "import pyzx as zx\n",
    "graph = SrH_env.final_circuit.to_graph()\n",
    "zx.to_graph_like(graph)\n",
    "zx.flow_2Q_simp(graph)\n",
    "circuit = zx.extract_simple(graph).to_basic_gates()\n",
    "\n",
    "circuit = zx.basic_optimization(circuit).to_basic_gates()\n",
    "SrH_env.final_circuit.stats()\n"
   ]
  },
  {
   "cell_type": "code",
   "execution_count": 34,
   "metadata": {},
   "outputs": [
    {
     "data": {
      "text/plain": [
       "'Circuit  on 10 qubits with 114 gates.\\n        24 is the T-count\\n        90 Cliffords among which\\n        63 2-qubit gates (51 CNOT, 12 other) and\\n        8 Hadamard gates.'"
      ]
     },
     "execution_count": 34,
     "metadata": {},
     "output_type": "execute_result"
    }
   ],
   "source": [
    "circuit.stats()"
   ]
  },
  {
   "cell_type": "code",
   "execution_count": 13,
   "metadata": {},
   "outputs": [
    {
     "data": {
      "text/plain": [
       "'Circuit  on 10 qubits with 147 gates.\\n        24 is the T-count\\n        123 Cliffords among which\\n        76 2-qubit gates (60 CNOT, 16 other) and\\n        15 Hadamard gates.'"
      ]
     },
     "execution_count": 13,
     "metadata": {},
     "output_type": "execute_result"
    }
   ],
   "source": [
    "graph = circuit.to_graph()\n",
    "zx.to_graph_like(graph)\n",
    "zx.flow_2Q_simp(graph)\n",
    "circuit = zx.extract_simple(graph).to_basic_gates()\n",
    "\n",
    "circuit = zx.basic_optimization(circuit).to_basic_gates()\n",
    "circuit.stats()"
   ]
  },
  {
   "cell_type": "code",
   "execution_count": null,
   "metadata": {},
   "outputs": [],
   "source": []
  }
 ],
 "metadata": {
  "kernelspec": {
   "display_name": "rl_zx",
   "language": "python",
   "name": "python3"
  },
  "language_info": {
   "codemirror_mode": {
    "name": "ipython",
    "version": 3
   },
   "file_extension": ".py",
   "mimetype": "text/x-python",
   "name": "python",
   "nbconvert_exporter": "python",
   "pygments_lexer": "ipython3",
   "version": "3.10.14"
  }
 },
 "nbformat": 4,
 "nbformat_minor": 2
}
