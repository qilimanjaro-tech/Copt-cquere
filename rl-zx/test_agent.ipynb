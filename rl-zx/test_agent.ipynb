{
 "cells": [
  {
   "cell_type": "code",
   "execution_count": 1,
   "metadata": {},
   "outputs": [],
   "source": [
    "from rl_agent import AgentGNN\n",
    "import gym_zx\n",
    "import gym\n",
    "import torch\n",
    "from torch_geometric.data import Batch, Data\n",
    "import pyzx as zx"
   ]
  },
  {
   "cell_type": "code",
   "execution_count": 2,
   "metadata": {},
   "outputs": [
    {
     "name": "stdout",
     "output_type": "stream",
     "text": [
      "Circuit SrH_2.1461_12q.qasm on 12 qubits with 343 gates.\n",
      "        8 is the T-count\n",
      "        335 Cliffords among which\n",
      "        120 2-qubit gates (120 CNOT, 0 other) and\n",
      "        0 Hadamard gates.\n"
     ]
    }
   ],
   "source": [
    "SrH_env = gym.make(\"zx-v0\", qubits=6, depth=None, env_id=1)\n",
    "device = torch.device(\"cuda\" if torch.cuda.is_available() else \"cpu\")\n",
    "rl_agent = AgentGNN(None,device=device).to(device)\n",
    "rl_agent.load_state_dict(\n",
    "        torch.load(\"/home/jnogue/qilimanjaro/Copt-cquere/rl-zx/state_dict_5x70_twoqubits_high_entropy_len50.pt\", map_location=torch.device(\"cpu\"))\n",
    "    )  \n",
    "rl_agent.eval()\n"
   ]
  },
  {
   "cell_type": "code",
   "execution_count": 3,
   "metadata": {},
   "outputs": [
    {
     "name": "stdout",
     "output_type": "stream",
     "text": [
      "Circuit  on 12 qubits with 74 gates.\n",
      "        8 is the T-count\n",
      "        66 Cliffords among which\n",
      "        55 2-qubit gates (29 CNOT, 26 other) and\n",
      "        2 Hadamard gates.\n"
     ]
    }
   ],
   "source": [
    "obs0, reset_info = SrH_env.reset()\n",
    "policy_items, value_items = reset_info[\"graph_obs\"]\n",
    "value_graph = [Data(x=value_items[0], edge_index=value_items[1], edge_attr=value_items[2])]\n",
    "policy_graph = [Data(x=policy_items[0], edge_index=policy_items[1], edge_attr=policy_items[2], y=policy_items[3])]\n",
    "next_obs_graph = (Batch.from_data_list(policy_graph), Batch.from_data_list(value_graph))"
   ]
  },
  {
   "cell_type": "code",
   "execution_count": 4,
   "metadata": {},
   "outputs": [
    {
     "name": "stdout",
     "output_type": "stream",
     "text": [
      "Circuit 10q-SrH-ckt.qasm on 10 qubits with 519 gates.\n",
      "        24 is the T-count\n",
      "        495 Cliffords among which\n",
      "        176 2-qubit gates (176 CNOT, 0 other) and\n",
      "        0 Hadamard gates.\n"
     ]
    }
   ],
   "source": [
    "\n",
    "done = False\n",
    "while not done:\n",
    "    \n",
    "    action, _, _, value, logits, action_ids = rl_agent.get_action_and_value(next_obs_graph, device=device)\n",
    "    next_obs, reward, done, deprecated, info = SrH_env.step(action_ids.cpu().numpy())\n",
    "    policy_items, value_items = info[\"graph_obs\"]\n",
    "    value_graph = [Data(x=value_items[0], edge_index=value_items[1], edge_attr=value_items[2])]\n",
    "    policy_graph = [Data(x=policy_items[0], edge_index=policy_items[1], edge_attr=policy_items[2], y=policy_items[3])]\n",
    "    next_obs_graph = (Batch.from_data_list(policy_graph), Batch.from_data_list(value_graph))"
   ]
  },
  {
   "cell_type": "code",
   "execution_count": 2,
   "metadata": {},
   "outputs": [
    {
     "name": "stderr",
     "output_type": "stream",
     "text": [
      "/home/jnogue/miniconda3/envs/cquere/lib/python3.10/site-packages/torch_geometric/deprecation.py:22: UserWarning: 'nn.glob.GlobalAttention' is deprecated, use 'nn.aggr.AttentionalAggregation' instead\n",
      "  warnings.warn(out)\n"
     ]
    },
    {
     "data": {
      "text/plain": [
       "AgentGNN(\n",
       "  (global_attention_critic): GlobalAttention(gate_nn=Sequential(\n",
       "    (0): Linear(in_features=32, out_features=32, bias=True)\n",
       "    (1): ReLU()\n",
       "    (2): Linear(in_features=32, out_features=32, bias=True)\n",
       "    (3): ReLU()\n",
       "    (4): Linear(in_features=32, out_features=1, bias=True)\n",
       "  ), nn=Sequential(\n",
       "    (0): Linear(in_features=32, out_features=32, bias=True)\n",
       "    (1): ReLU()\n",
       "    (2): Linear(in_features=32, out_features=32, bias=True)\n",
       "    (3): ReLU()\n",
       "  ))\n",
       "  (critic_gnn): Sequential(\n",
       "    (0): GATv2Conv(12, 32, heads=1)\n",
       "    (1): ReLU()\n",
       "    (2): GATv2Conv(32, 32, heads=1)\n",
       "    (3): ReLU()\n",
       "    (4): GATv2Conv(32, 32, heads=1)\n",
       "    (5): ReLU()\n",
       "    (6): GATv2Conv(32, 32, heads=1)\n",
       "    (7): ReLU()\n",
       "    (8): GATv2Conv(32, 32, heads=1)\n",
       "    (9): ReLU()\n",
       "  )\n",
       "  (actor_gnn): Sequential(\n",
       "    (0): GATv2Conv(17, 32, heads=1)\n",
       "    (1): ReLU()\n",
       "    (2): GATv2Conv(32, 32, heads=1)\n",
       "    (3): ReLU()\n",
       "    (4): GATv2Conv(32, 32, heads=1)\n",
       "    (5): ReLU()\n",
       "    (6): GATv2Conv(32, 32, heads=1)\n",
       "    (7): ReLU()\n",
       "    (8): GATv2Conv(32, 32, heads=1)\n",
       "    (9): ReLU()\n",
       "    (10): Linear(in_features=32, out_features=32, bias=True)\n",
       "    (11): ReLU()\n",
       "    (12): Linear(in_features=32, out_features=1, bias=True)\n",
       "  )\n",
       "  (critic_ff): Sequential(\n",
       "    (0): Linear(in_features=32, out_features=32, bias=True)\n",
       "    (1): ReLU()\n",
       "    (2): Linear(in_features=32, out_features=32, bias=True)\n",
       "    (3): ReLU()\n",
       "    (4): Linear(in_features=32, out_features=1, bias=True)\n",
       "  )\n",
       ")"
      ]
     },
     "execution_count": 2,
     "metadata": {},
     "output_type": "execute_result"
    }
   ],
   "source": [
    "SrH_env.pyzx_data"
   ]
  },
  {
   "cell_type": "code",
   "execution_count": 3,
   "metadata": {},
   "outputs": [
    {
     "name": "stderr",
     "output_type": "stream",
     "text": [
      "/home/jnogue/miniconda3/envs/cquere/lib/python3.10/site-packages/gym/utils/passive_env_checker.py:174: UserWarning: \u001b[33mWARN: Future gym versions will require that `Env.reset` can be passed a `seed` instead of using `Env.seed` for resetting the environment random number generator.\u001b[0m\n",
      "  logger.warn(\n",
      "/home/jnogue/miniconda3/envs/cquere/lib/python3.10/site-packages/gym/utils/passive_env_checker.py:187: UserWarning: \u001b[33mWARN: Future gym versions will require that `Env.reset` can be passed `options` to allow the environment initialisation to be passed additional information.\u001b[0m\n",
      "  logger.warn(\n",
      "/home/jnogue/miniconda3/envs/cquere/lib/python3.10/site-packages/gym/utils/passive_env_checker.py:165: UserWarning: \u001b[33mWARN: The obs returned by the `reset()` method is not within the observation space.\u001b[0m\n",
      "  logger.warn(f\"{pre} is not within the observation space.\")\n"
     ]
    }
   ],
   "source": [
    "obs0, reset_info = SrH_env.reset()\n",
    "policy_items, value_items = reset_info[\"graph_obs\"]\n",
    "value_graph = [Data(x=value_items[0], edge_index=value_items[1], edge_attr=value_items[2])]\n",
    "policy_graph = [Data(x=policy_items[0], edge_index=policy_items[1], edge_attr=policy_items[2], y=policy_items[3])]\n",
    "next_obs_graph = (Batch.from_data_list(policy_graph), Batch.from_data_list(value_graph))"
   ]
  },
  {
   "cell_type": "code",
   "execution_count": 4,
   "metadata": {},
   "outputs": [
    {
     "name": "stderr",
     "output_type": "stream",
     "text": [
      "/home/jnogue/qilimanjaro/Copt-cquere/rl-zx/rl_agent.py:211: UserWarning: The use of `x.T` on tensors of dimension other than 2 to reverse their shape is deprecated and it will throw an error in a future release. Consider `x.mT` to transpose batches of matrices or `x.permute(*torch.arange(x.ndim - 1, -1, -1))` to reverse the dimensions of a tensor. (Triggered internally at ../aten/src/ATen/native/TensorShape.cpp:3571.)\n",
      "  return action.T, logprob, entropy, values, torch.tensor(action_logits).to(device).reshape(-1, 1), action_id.T\n",
      "/home/jnogue/qilimanjaro/Copt-cquere/rl-zx/rl_agent.py:211: UserWarning: To copy construct from a tensor, it is recommended to use sourceTensor.clone().detach() or sourceTensor.clone().detach().requires_grad_(True), rather than torch.tensor(sourceTensor).\n",
      "  return action.T, logprob, entropy, values, torch.tensor(action_logits).to(device).reshape(-1, 1), action_id.T\n",
      "/home/jnogue/miniconda3/envs/cquere/lib/python3.10/site-packages/gym/utils/passive_env_checker.py:233: DeprecationWarning: `np.bool8` is a deprecated alias for `np.bool_`.  (Deprecated NumPy 1.24)\n",
      "  if not isinstance(terminated, (bool, np.bool8)):\n",
      "/home/jnogue/miniconda3/envs/cquere/lib/python3.10/site-packages/gym/utils/passive_env_checker.py:165: UserWarning: \u001b[33mWARN: The obs returned by the `step()` method is not within the observation space.\u001b[0m\n",
      "  logger.warn(f\"{pre} is not within the observation space.\")\n"
     ]
    },
    {
     "name": "stdout",
     "output_type": "stream",
     "text": [
      "Win vs Pyzx:  -1  Episode Gates:  67 Single gates: 105 Episode Len 149 Opt Episode Len 143\n"
     ]
    }
   ],
   "source": [
    "\n",
    "done = False\n",
    "while not done:\n",
    "    \n",
    "    action, _, _, value, logits, action_ids = rl_agent.get_action_and_value(next_obs_graph, device=device)\n",
    "    next_obs, reward, done, deprecated, info = SrH_env.step(action_ids.cpu().numpy())\n",
    "    policy_items, value_items = info[\"graph_obs\"]\n",
    "    value_graph = [Data(x=value_items[0], edge_index=value_items[1], edge_attr=value_items[2])]\n",
    "    policy_graph = [Data(x=policy_items[0], edge_index=policy_items[1], edge_attr=policy_items[2], y=policy_items[3])]\n",
    "    next_obs_graph = (Batch.from_data_list(policy_graph), Batch.from_data_list(value_graph))"
   ]
  },
  {
   "cell_type": "code",
   "execution_count": 5,
   "metadata": {},
   "outputs": [
    {
     "name": "stdout",
     "output_type": "stream",
     "text": [
      "{'qubits': 12, 'gates': 60, 'tcount': 8, 'clifford': 19, 'CNOT': 26, 'CZ': 7, 'had': 5, 'twoqubits': 33}\n"
     ]
    }
   ],
   "source": [
    "data = SrH_env.pyzx_data\n",
    "print(data)\n",
    "circuit = SrH_env.circuit\n",
    "\n"
   ]
  },
  {
   "cell_type": "code",
   "execution_count": 6,
   "metadata": {},
   "outputs": [
    {
     "name": "stdout",
     "output_type": "stream",
     "text": [
      "Circuit  on 12 qubits with 105 gates.\n",
      "        8 is the T-count\n",
      "        97 Cliffords among which\n",
      "        67 2-qubit gates (45 CNOT, 22 other) and\n",
      "        3 Hadamard gates.\n"
     ]
    }
   ],
   "source": [
    "import pyzx as zx\n",
    "graph = SrH_env.final_circuit.to_graph()\n",
    "zx.to_graph_like(graph)\n",
    "zx.flow_2Q_simp(graph)\n",
    "circuit = zx.extract_simple(graph).to_basic_gates()\n",
    "\n",
    "circuit = zx.basic_optimization(circuit).to_basic_gates()\n",
    "print(SrH_env.final_circuit.stats())\n"
   ]
  },
  {
   "cell_type": "code",
   "execution_count": 34,
   "metadata": {},
   "outputs": [
    {
     "data": {
      "text/plain": [
       "'Circuit  on 10 qubits with 114 gates.\\n        24 is the T-count\\n        90 Cliffords among which\\n        63 2-qubit gates (51 CNOT, 12 other) and\\n        8 Hadamard gates.'"
      ]
     },
     "execution_count": 34,
     "metadata": {},
     "output_type": "execute_result"
    }
   ],
   "source": [
    "circuit.stats()"
   ]
  },
  {
   "cell_type": "code",
   "execution_count": 19,
   "metadata": {},
   "outputs": [
    {
     "data": {
      "text/plain": [
       "'Circuit  on 10 qubits with 147 gates.\\n        24 is the T-count\\n        123 Cliffords among which\\n        76 2-qubit gates (60 CNOT, 16 other) and\\n        15 Hadamard gates.'"
      ]
     },
     "execution_count": 13,
     "metadata": {},
     "output_type": "execute_result"
    }
   ],
   "source": [
    "circuit = zx.Circuit.from_qasm_file(\"/home/jnogue/qilimanjaro/Copt-cquere/rl-zx/cquere/circuits/before/SrH_2.1461_12q.qasm\").to_basic_gates()\n",
    "circ = flow_opt(circuit)\n",
    "final_circ = flow_opt_graph(circuit)\n",
    "print(circ.stats())\n",
    "print(final_circ.stats())\n"
   ]
  },
  {
   "cell_type": "code",
   "execution_count": 20,
   "metadata": {},
   "outputs": [
    {
     "name": "stdout",
     "output_type": "stream",
     "text": [
      "OPENQASM 2.0;\n",
      "include \"qelib1.inc\";\n",
      "qreg q[12];\n",
      "cx q[5], q[1];\n",
      "cz q[2], q[5];\n",
      "h q[7];\n",
      "rz(-0.5*pi) q[7];\n",
      "rz(-0.5*pi) q[10];\n",
      "cx q[9], q[10];\n",
      "cx q[8], q[10];\n",
      "cx q[4], q[10];\n",
      "cx q[3], q[10];\n",
      "cz q[5], q[10];\n",
      "cx q[5], q[11];\n",
      "rz(1.5*pi) q[11];\n",
      "h q[5];\n",
      "rz(0.5*pi) q[5];\n",
      "cz q[5], q[7];\n",
      "h q[7];\n",
      "rz(0.9924411464549496*pi) q[7];\n",
      "cx q[7], q[11];\n",
      "rz(0.4924411464549496*pi) q[11];\n",
      "h q[5];\n",
      "cx q[5], q[1];\n",
      "rz(0.007558853545050421*pi) q[5];\n",
      "rz(1.5075588535450504*pi) q[1];\n",
      "cx q[11], q[1];\n",
      "cx q[5], q[11];\n",
      "rz(0.5*pi) q[11];\n",
      "rz(1.5*pi) q[1];\n",
      "cx q[1], q[5];\n",
      "rz(1.9924411464549496*pi) q[5];\n",
      "cx q[1], q[7];\n",
      "rz(0.5075588535450504*pi) q[7];\n",
      "cz q[7], q[10];\n",
      "cz q[5], q[10];\n",
      "cx q[11], q[7];\n",
      "rz(0.9924411464549496*pi) q[7];\n",
      "cx q[1], q[7];\n",
      "cx q[7], q[5];\n",
      "rz(0.007558853545050421*pi) q[7];\n",
      "h q[7];\n",
      "cz q[7], q[10];\n",
      "cx q[9], q[10];\n",
      "cx q[8], q[10];\n",
      "cx q[4], q[10];\n",
      "cx q[3], q[10];\n",
      "rz(0.5*pi) q[10];\n",
      "cx q[7], q[11];\n",
      "rz(-0.5*pi) q[11];\n",
      "cx q[5], q[1];\n",
      "rz(1.5*pi) q[5];\n",
      "cx q[7], q[5];\n",
      "cx q[11], q[1];\n",
      "z q[1];\n",
      "cz q[1], q[2];\n",
      "x q[6];\n",
      "x q[2];\n",
      "x q[0];\n",
      "x q[5];\n",
      "cx q[1], q[5];\n",
      "cx q[5], q[1];\n",
      "cx q[1], q[5];\n",
      "\n"
     ]
    }
   ],
   "source": []
  },
  {
   "cell_type": "code",
   "execution_count": 18,
   "metadata": {},
   "outputs": [],
   "source": [
    "def basic_optimise(c):\n",
    "    c1 = zx.basic_optimization(c.copy().split_phase_gates()).to_basic_gates()\n",
    "    c2 = zx.basic_optimization(c.copy().split_phase_gates(), do_swaps=True).to_basic_gates()\n",
    "    if c2.twoqubitcount() < c1.twoqubitcount(): return c2 # As this optimisation algorithm is targetted at reducting H-gates, we use the circuit with the smaller 2-qubit gate count here, either using SWAP rules or not.\n",
    "    return c1\n",
    "def flow_opt(c):\n",
    "\n",
    "    c = zx.optimize.basic_optimization(zx.Circuit.from_graph(c.to_graph().copy()).split_phase_gates())\n",
    "    g = c.to_graph()        \n",
    "    zx.teleport_reduce(g)\n",
    "    zx.to_graph_like(g)\n",
    "    zx.flow_2Q_simp(g)\n",
    "    c2 = zx.extract_simple(g).to_basic_gates()\n",
    "    return basic_optimise(c2)\n",
    "\n",
    "def flow_opt_graph(c):\n",
    "    c = zx.optimize.basic_optimization(zx.Circuit.from_graph(c.to_graph().copy()).split_phase_gates())\n",
    "    g = c.to_graph()\n",
    "    basic_circ = zx.optimize.basic_optimization(zx.Circuit.from_graph(g.copy()).split_phase_gates())\n",
    "    graph = basic_circ.to_graph()\n",
    "    zx.simplify.to_gh(graph)\n",
    "    zx.simplify.spider_simp(graph, quiet=True)\n",
    "    zx.to_graph_like(graph)\n",
    "    zx.flow_2Q_simp(graph)\n",
    "    circuit = zx.extract_simple(graph).to_basic_gates()\n",
    "    return basic_optimise(circuit)\n"
   ]
  }
 ],
 "metadata": {
  "kernelspec": {
   "display_name": "rl_zx",
   "language": "python",
   "name": "python3"
  },
  "language_info": {
   "codemirror_mode": {
    "name": "ipython",
    "version": 3
   },
   "file_extension": ".py",
   "mimetype": "text/x-python",
   "name": "python",
   "nbconvert_exporter": "python",
   "pygments_lexer": "ipython3",
   "version": "3.10.14"
  }
 },
 "nbformat": 4,
 "nbformat_minor": 2
}
