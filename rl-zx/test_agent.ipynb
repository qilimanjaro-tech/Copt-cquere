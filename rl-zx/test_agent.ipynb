{
 "cells": [
  {
   "cell_type": "code",
   "execution_count": 1,
   "metadata": {},
   "outputs": [],
   "source": [
    "from rl_agent import AgentGNN\n",
    "import gym_zx\n",
    "import gymnasium as gym\n",
    "import torch\n",
    "from torch_geometric.data import Batch, Data\n",
    "import pyzx as zx"
   ]
  },
  {
   "cell_type": "code",
   "execution_count": 2,
   "metadata": {},
   "outputs": [
    {
     "data": {
      "text/plain": [
       "AgentGNN(\n",
       "  (global_attention_critic): AttentionalAggregation(gate_nn=Sequential(\n",
       "    (0): Linear(in_features=32, out_features=32, bias=True)\n",
       "    (1): ReLU()\n",
       "    (2): Linear(in_features=32, out_features=32, bias=True)\n",
       "    (3): ReLU()\n",
       "    (4): Linear(in_features=32, out_features=1, bias=True)\n",
       "  ), nn=Sequential(\n",
       "    (0): Linear(in_features=32, out_features=32, bias=True)\n",
       "    (1): ReLU()\n",
       "    (2): Linear(in_features=32, out_features=32, bias=True)\n",
       "    (3): ReLU()\n",
       "  ))\n",
       "  (critic_gnn): Sequential(\n",
       "    (0): GATv2Conv(12, 32, heads=1)\n",
       "    (1): ReLU()\n",
       "    (2): GATv2Conv(32, 32, heads=1)\n",
       "    (3): ReLU()\n",
       "    (4): GATv2Conv(32, 32, heads=1)\n",
       "    (5): ReLU()\n",
       "    (6): GATv2Conv(32, 32, heads=1)\n",
       "    (7): ReLU()\n",
       "    (8): GATv2Conv(32, 32, heads=1)\n",
       "    (9): ReLU()\n",
       "  )\n",
       "  (actor_gnn): Sequential(\n",
       "    (0): GATv2Conv(17, 32, heads=1)\n",
       "    (1): ReLU()\n",
       "    (2): GATv2Conv(32, 32, heads=1)\n",
       "    (3): ReLU()\n",
       "    (4): GATv2Conv(32, 32, heads=1)\n",
       "    (5): ReLU()\n",
       "    (6): GATv2Conv(32, 32, heads=1)\n",
       "    (7): ReLU()\n",
       "    (8): GATv2Conv(32, 32, heads=1)\n",
       "    (9): ReLU()\n",
       "    (10): Linear(in_features=32, out_features=32, bias=True)\n",
       "    (11): ReLU()\n",
       "    (12): Linear(in_features=32, out_features=1, bias=True)\n",
       "  )\n",
       "  (critic_ff): Sequential(\n",
       "    (0): Linear(in_features=32, out_features=32, bias=True)\n",
       "    (1): ReLU()\n",
       "    (2): Linear(in_features=32, out_features=32, bias=True)\n",
       "    (3): ReLU()\n",
       "    (4): Linear(in_features=32, out_features=1, bias=True)\n",
       "  )\n",
       ")"
      ]
     },
     "execution_count": 2,
     "metadata": {},
     "output_type": "execute_result"
    }
   ],
   "source": [
    "SrH_env = gym.make(\"zx-v0\", qubits=12, depth=None, env_id=1)\n",
    "device = torch.device(\"cuda\" if torch.cuda.is_available() else \"cpu\")\n",
    "rl_agent = AgentGNN(None,device=device).to(device)\n",
    "rl_agent.load_state_dict(\n",
    "        torch.load(\"/home/jnogue/qilimanjaro/Copt-cquere/rl-zx/state_dict_5x70_cquere_twoqubits.pt\", map_location=torch.device(\"cpu\"))\n",
    "    )  \n",
    "rl_agent.eval()\n"
   ]
  },
  {
   "cell_type": "code",
   "execution_count": 3,
   "metadata": {},
   "outputs": [
    {
     "name": "stderr",
     "output_type": "stream",
     "text": [
      "/home/jnogue/miniconda3/envs/cquere/lib/python3.10/site-packages/gymnasium/utils/passive_env_checker.py:159: UserWarning: \u001b[33mWARN: The obs returned by the `reset()` method is not within the observation space.\u001b[0m\n",
      "  logger.warn(f\"{pre} is not within the observation space.\")\n"
     ]
    }
   ],
   "source": [
    "obs0, reset_info = SrH_env.reset()\n",
    "policy_items, value_items = reset_info[\"graph_obs\"]\n",
    "value_graph = [Data(x=value_items[0], edge_index=value_items[1], edge_attr=value_items[2])]\n",
    "policy_graph = [Data(x=policy_items[0], edge_index=policy_items[1], edge_attr=policy_items[2], y=policy_items[3])]\n",
    "next_obs_graph = (Batch.from_data_list(policy_graph), Batch.from_data_list(value_graph))"
   ]
  },
  {
   "cell_type": "code",
   "execution_count": 4,
   "metadata": {},
   "outputs": [
    {
     "name": "stderr",
     "output_type": "stream",
     "text": [
      "/home/jnogue/miniconda3/envs/cquere/lib/python3.10/site-packages/gymnasium/utils/passive_env_checker.py:159: UserWarning: \u001b[33mWARN: The obs returned by the `step()` method is not within the observation space.\u001b[0m\n",
      "  logger.warn(f\"{pre} is not within the observation space.\")\n"
     ]
    },
    {
     "name": "stdout",
     "output_type": "stream",
     "text": [
      "Win vs Pyzx:  -1  Episode Gates:  46 Cflow_gates:  33 Episode Len 146 Opt Episode Len 140\n"
     ]
    }
   ],
   "source": [
    "\n",
    "done = False\n",
    "while not done:\n",
    "    \n",
    "    action, _, _, value, logits, action_ids = rl_agent.get_action_and_value(next_obs_graph, device=device)\n",
    "    next_obs, reward, done, deprecated, info = SrH_env.step(action_ids.cpu().numpy())\n",
    "    policy_items, value_items = info[\"graph_obs\"]\n",
    "    value_graph = [Data(x=value_items[0], edge_index=value_items[1], edge_attr=value_items[2])]\n",
    "    policy_graph = [Data(x=policy_items[0], edge_index=policy_items[1], edge_attr=policy_items[2], y=policy_items[3])]\n",
    "    next_obs_graph = (Batch.from_data_list(policy_graph), Batch.from_data_list(value_graph))"
   ]
  },
  {
   "cell_type": "code",
   "execution_count": 6,
   "metadata": {},
   "outputs": [
    {
     "name": "stderr",
     "output_type": "stream",
     "text": [
      "/home/jnogue/miniconda3/envs/cquere/lib/python3.10/site-packages/gymnasium/core.py:297: UserWarning: \u001b[33mWARN: env.pyzx_data to get variables from other wrappers is deprecated and will be removed in v1.0, to get this variable you can do `env.unwrapped.pyzx_data` for environment variables or `env.get_attr('pyzx_data')` that will search the reminding wrappers.\u001b[0m\n",
      "  logger.warn(\n"
     ]
    },
    {
     "data": {
      "text/plain": [
       "{'qubits': 12,\n",
       " 'gates': 60,\n",
       " 'tcount': 8,\n",
       " 'clifford': 19,\n",
       " 'CNOT': 26,\n",
       " 'CZ': 7,\n",
       " 'had': 5,\n",
       " 'twoqubits': 33}"
      ]
     },
     "execution_count": 6,
     "metadata": {},
     "output_type": "execute_result"
    }
   ],
   "source": [
    "SrH_env.pyzx_data"
   ]
  },
  {
   "cell_type": "code",
   "execution_count": 5,
   "metadata": {},
   "outputs": [
    {
     "name": "stdout",
     "output_type": "stream",
     "text": [
      "{'qubits': 12, 'gates': 60, 'tcount': 8, 'clifford': 19, 'CNOT': 26, 'CZ': 7, 'had': 5, 'twoqubits': 33}\n",
      "Circuit  on 12 qubits with 66 gates.\n",
      "        8 is the T-count\n",
      "        58 Cliffords among which\n",
      "        36 2-qubit gates (27 CNOT, 9 other) and\n",
      "        2 Hadamard gates.\n"
     ]
    },
    {
     "name": "stderr",
     "output_type": "stream",
     "text": [
      "/home/jnogue/miniconda3/envs/cquere/lib/python3.10/site-packages/gymnasium/core.py:297: UserWarning: \u001b[33mWARN: env.pyzx_data to get variables from other wrappers is deprecated and will be removed in v1.0, to get this variable you can do `env.unwrapped.pyzx_data` for environment variables or `env.get_attr('pyzx_data')` that will search the reminding wrappers.\u001b[0m\n",
      "  logger.warn(\n",
      "/home/jnogue/miniconda3/envs/cquere/lib/python3.10/site-packages/gymnasium/core.py:297: UserWarning: \u001b[33mWARN: env.final_circuit to get variables from other wrappers is deprecated and will be removed in v1.0, to get this variable you can do `env.unwrapped.final_circuit` for environment variables or `env.get_attr('final_circuit')` that will search the reminding wrappers.\u001b[0m\n",
      "  logger.warn(\n"
     ]
    }
   ],
   "source": [
    "data = SrH_env.pyzx_data\n",
    "print(data)\n",
    "circuit = SrH_env.final_circuit\n",
    "print(circuit.stats())\n",
    "\n"
   ]
  },
  {
   "cell_type": "code",
   "execution_count": 83,
   "metadata": {},
   "outputs": [
    {
     "name": "stdout",
     "output_type": "stream",
     "text": [
      "Circuit  on 12 qubits with 63 gates.\n",
      "        8 is the T-count\n",
      "        55 Cliffords among which\n",
      "        36 2-qubit gates (35 CNOT, 1 other) and\n",
      "        8 Hadamard gates.\n"
     ]
    }
   ],
   "source": [
    "\n",
    "print(circuit.stats())\n",
    "print(circuit.to_qasm())\n"
   ]
  },
  {
   "cell_type": "code",
   "execution_count": 9,
   "metadata": {},
   "outputs": [
    {
     "name": "stdout",
     "output_type": "stream",
     "text": [
      "Stats after RL-ZX\n",
      " Circuit  on 12 qubits with 79 gates.\n",
      "        8 is the T-count\n",
      "        71 Cliffords among which\n",
      "        46 2-qubit gates (40 CNOT, 6 other) and\n",
      "        9 Hadamard gates.\n",
      "Stats adding Calum as post processing\n",
      " Circuit  on 12 qubits with 84 gates.\n",
      "        8 is the T-count\n",
      "        76 Cliffords among which\n",
      "        43 2-qubit gates (32 CNOT, 11 other) and\n",
      "        9 Hadamard gates.\n"
     ]
    }
   ],
   "source": [
    "import pyzx as zx\n",
    "graph = SrH_env.final_circuit.to_graph()\n",
    "print(\"Stats after RL-ZX\\n\", SrH_env.final_circuit.stats())\n",
    "final_circuit = flow_opt(SrH_env.final_circuit)\n",
    "print(\"Stats adding Calum as post processing\\n\", final_circuit.stats())\n"
   ]
  },
  {
   "cell_type": "code",
   "execution_count": 52,
   "metadata": {},
   "outputs": [
    {
     "name": "stdout",
     "output_type": "stream",
     "text": [
      "OPENQASM 2.0;\n",
      "include \"qelib1.inc\";\n",
      "qreg q[12];\n",
      "z q[1];\n",
      "z q[2];\n",
      "z q[3];\n",
      "z q[4];\n",
      "rz(1.5*pi) q[5];\n",
      "z q[8];\n",
      "z q[9];\n",
      "rz(0.5*pi) q[10];\n",
      "h q[10];\n",
      "rz(0.5*pi) q[10];\n",
      "rz(0.5*pi) q[11];\n",
      "cz q[1], q[11];\n",
      "cz q[9], q[11];\n",
      "cz q[8], q[11];\n",
      "cx q[11], q[7];\n",
      "cx q[11], q[5];\n",
      "cz q[4], q[11];\n",
      "cz q[3], q[11];\n",
      "cz q[2], q[11];\n",
      "h q[11];\n",
      "cx q[11], q[10];\n",
      "rz(1.5*pi) q[11];\n",
      "h q[11];\n",
      "rz(1.9924411464549496*pi) q[11];\n",
      "rz(-0.5*pi) q[7];\n",
      "rz(1.9924411464549496*pi) q[10];\n",
      "cx q[7], q[11];\n",
      "rz(0.4924411464549496*pi) q[11];\n",
      "cx q[5], q[11];\n",
      "rz(0.9924411464549496*pi) q[11];\n",
      "cx q[10], q[7];\n",
      "cx q[5], q[10];\n",
      "rz(0.9924411464549496*pi) q[10];\n",
      "cx q[10], q[11];\n",
      "rz(1.9924411464549496*pi) q[7];\n",
      "cx q[5], q[7];\n",
      "rz(0.9924411464549496*pi) q[7];\n",
      "cx q[7], q[10];\n",
      "cx q[11], q[7];\n",
      "rz(0.9924411464549496*pi) q[7];\n",
      "h q[7];\n",
      "cz q[5], q[7];\n",
      "cx q[7], q[10];\n",
      "cz q[1], q[10];\n",
      "cz q[9], q[10];\n",
      "cz q[8], q[10];\n",
      "cz q[4], q[10];\n",
      "cz q[3], q[10];\n",
      "cz q[2], q[10];\n",
      "z q[10];\n",
      "cx q[7], q[11];\n",
      "cx q[10], q[5];\n",
      "rz(1.5*pi) q[5];\n",
      "x q[5];\n",
      "x q[2];\n",
      "x q[6];\n",
      "x q[0];\n",
      "x q[11];\n",
      "cx q[1], q[10];\n",
      "cx q[10], q[1];\n",
      "cx q[1], q[10];\n",
      "\n",
      "Circuit  on 12 qubits with 61 gates.\n",
      "        8 is the T-count\n",
      "        53 Cliffords among which\n",
      "        30 2-qubit gates (17 CNOT, 13 other) and\n",
      "        4 Hadamard gates.\n"
     ]
    }
   ],
   "source": [
    "print(final_circuit.to_qasm())\n",
    "print(final_circuit.stats())"
   ]
  },
  {
   "cell_type": "code",
   "execution_count": 53,
   "metadata": {},
   "outputs": [
    {
     "name": "stderr",
     "output_type": "stream",
     "text": [
      "/home/jnogue/miniconda3/envs/cquere/lib/python3.10/site-packages/gymnasium/core.py:297: UserWarning: \u001b[33mWARN: env.circuit_up_to_perm to get variables from other wrappers is deprecated and will be removed in v1.0, to get this variable you can do `env.unwrapped.circuit_up_to_perm` for environment variables or `env.get_attr('circuit_up_to_perm')` that will search the reminding wrappers.\u001b[0m\n",
      "  logger.warn(\n"
     ]
    },
    {
     "name": "stdout",
     "output_type": "stream",
     "text": [
      "Circuit  on 12 qubits with 64 gates.\n",
      "        8 is the T-count\n",
      "        56 Cliffords among which\n",
      "        33 2-qubit gates (19 CNOT, 14 other) and\n",
      "        5 Hadamard gates.\n"
     ]
    }
   ],
   "source": [
    "circuit_perm = SrH_env.circuit_up_to_perm\n",
    "final_circuit_perm = flow_opt(circuit_perm)\n",
    "print(final_circuit_perm.stats())\n"
   ]
  },
  {
   "cell_type": "code",
   "execution_count": 54,
   "metadata": {},
   "outputs": [
    {
     "name": "stdout",
     "output_type": "stream",
     "text": [
      "OPENQASM 2.0;\n",
      "include \"qelib1.inc\";\n",
      "qreg q[12];\n",
      "swap q[10], q[11];\n",
      "swap q[1], q[11];\n",
      "h q[11];\n",
      "h q[9];\n",
      "h q[8];\n",
      "h q[6];\n",
      "h q[4];\n",
      "h q[3];\n",
      "h q[2];\n",
      "h q[1];\n",
      "h q[0];\n",
      "h q[11];\n",
      "h q[2];\n",
      "h q[9];\n",
      "cz q[5], q[11];\n",
      "cz q[2], q[5];\n",
      "cz q[1], q[9];\n",
      "h q[7];\n",
      "h q[10];\n",
      "h q[5];\n",
      "h q[4];\n",
      "h q[8];\n",
      "h q[3];\n",
      "h q[1];\n",
      "cz q[10], q[11];\n",
      "cz q[8], q[11];\n",
      "cz q[7], q[11];\n",
      "cz q[5], q[11];\n",
      "cz q[4], q[11];\n",
      "cz q[3], q[11];\n",
      "cz q[1], q[11];\n",
      "rz(0.5*pi) q[11];\n",
      "h q[11];\n",
      "cz q[7], q[11];\n",
      "h q[7];\n",
      "cz q[10], q[11];\n",
      "cz q[7], q[11];\n",
      "rz(1.0075588535450504*pi) q[11];\n",
      "h q[11];\n",
      "cz q[7], q[11];\n",
      "rz(1.0075588535450504*pi) q[7];\n",
      "h q[7];\n",
      "cx q[7], q[5];\n",
      "rz(1.0*pi) q[10];\n",
      "h q[10];\n",
      "cz q[10], q[11];\n",
      "rz(0.9924411464549496*pi) q[10];\n",
      "h q[10];\n",
      "cx q[10], q[5];\n",
      "rz(1.0*pi) q[11];\n",
      "h q[11];\n",
      "rz(1.0075588535450504*pi) q[11];\n",
      "h q[11];\n",
      "cx q[11], q[5];\n",
      "h q[7];\n",
      "rz(1.0075588535450504*pi) q[7];\n",
      "h q[7];\n",
      "h q[10];\n",
      "cz q[8], q[10];\n",
      "cz q[7], q[10];\n",
      "cz q[4], q[10];\n",
      "cz q[3], q[10];\n",
      "cz q[2], q[10];\n",
      "rz(0.9924411464549496*pi) q[10];\n",
      "h q[10];\n",
      "h q[11];\n",
      "cz q[10], q[11];\n",
      "cz q[8], q[11];\n",
      "cz q[7], q[11];\n",
      "cz q[4], q[11];\n",
      "cz q[3], q[11];\n",
      "cz q[2], q[11];\n",
      "rz(1.0075588535450504*pi) q[11];\n",
      "h q[11];\n",
      "rz(1.0*pi) q[7];\n",
      "h q[7];\n",
      "cz q[7], q[11];\n",
      "rz(1.0075588535450504*pi) q[7];\n",
      "h q[7];\n",
      "cx q[7], q[5];\n",
      "cz q[2], q[5];\n",
      "rz(0.5*pi) q[5];\n",
      "h q[5];\n",
      "cx q[5], q[10];\n",
      "cx q[10], q[1];\n",
      "rz(1.5*pi) q[4];\n",
      "h q[4];\n",
      "cz q[4], q[7];\n",
      "h q[4];\n",
      "rz(0.5*pi) q[4];\n",
      "h q[4];\n",
      "cz q[7], q[11];\n",
      "cz q[7], q[10];\n",
      "cz q[7], q[8];\n",
      "cz q[5], q[7];\n",
      "cz q[4], q[7];\n",
      "cz q[3], q[7];\n",
      "cz q[2], q[7];\n",
      "cz q[2], q[5];\n",
      "rz(1.5*pi) q[7];\n",
      "rz(1.0*pi) q[6];\n",
      "rz(0.5*pi) q[5];\n",
      "rz(0.5*pi) q[2];\n",
      "rz(1.0*pi) q[0];\n",
      "h q[8];\n",
      "h q[7];\n",
      "h q[6];\n",
      "h q[5];\n",
      "h q[3];\n",
      "h q[2];\n",
      "h q[0];\n",
      "h q[10];\n",
      "cz q[9], q[10];\n",
      "cz q[1], q[10];\n",
      "rz(1.0*pi) q[11];\n",
      "h q[11];\n",
      "h q[10];\n",
      "h q[8];\n",
      "h q[7];\n",
      "rz(0.5*pi) q[5];\n",
      "h q[4];\n",
      "h q[3];\n",
      "rz(1.0*pi) q[2];\n",
      "h q[2];\n",
      "rz(1.0*pi) q[1];\n",
      "h q[1];\n",
      "\n"
     ]
    }
   ],
   "source": [
    "print(circuit_perm.to_qasm())"
   ]
  },
  {
   "cell_type": "code",
   "execution_count": 7,
   "metadata": {},
   "outputs": [
    {
     "name": "stdout",
     "output_type": "stream",
     "text": [
      "37\n"
     ]
    }
   ],
   "source": [
    "circ = zx.Circuit.from_qasm_file(\"/home/jnogue/qilimanjaro/Copt-cquere/rl-zx/cquere/circuits/after/12q-SrH-RL+cflow.qasm\").to_basic_gates()\n",
    "print(circ.depth())\n",
    "c_before = zx.Circuit.from_qasm_file(\"/home/jnogue/qilimanjaro/Copt-cquere/rl-zx/cquere/circuits/before/SrH_2.1461_12q.qasm\")\n",
    "#zx.compare_tensors(circ,c_before)"
   ]
  },
  {
   "cell_type": "code",
   "execution_count": 70,
   "metadata": {},
   "outputs": [
    {
     "name": "stdout",
     "output_type": "stream",
     "text": [
      "Stats cflow\n",
      " Circuit  on 12 qubits with 60 gates.\n",
      "        8 is the T-count\n",
      "        52 Cliffords among which\n",
      "        33 2-qubit gates (26 CNOT, 7 other) and\n",
      "        5 Hadamard gates.\n",
      "Stats full_reduce\n",
      " Circuit  on 12 qubits with 57 gates.\n",
      "        8 is the T-count\n",
      "        49 Cliffords among which\n",
      "        36 2-qubit gates (31 CNOT, 5 other) and\n",
      "        4 Hadamard gates.\n"
     ]
    }
   ],
   "source": [
    "circuit = zx.Circuit.from_qasm_file(\"/home/jnogue/qilimanjaro/Copt-cquere/rl-zx/cquere/circuits/before/SrH_2.1461_12q.qasm\").to_basic_gates()\n",
    "circ = flow_opt(circuit)\n",
    "final_circ = full_reduce(circuit)\n",
    "print(\"Stats cflow\\n\", circ.stats())\n",
    "print(\"Stats full_reduce\\n\", final_circ.stats())\n"
   ]
  },
  {
   "cell_type": "code",
   "execution_count": 8,
   "metadata": {},
   "outputs": [],
   "source": [
    "def basic_optimise(c):\n",
    "    c1 = zx.basic_optimization(c.copy().split_phase_gates()).to_basic_gates()\n",
    "    c2 = zx.basic_optimization(c.copy().split_phase_gates(), do_swaps=True).to_basic_gates()\n",
    "    if c2.twoqubitcount() < c1.twoqubitcount(): return c2 # As this optimisation algorithm is targetted at reducting H-gates, we use the circuit with the smaller 2-qubit gate count here, either using SWAP rules or not.\n",
    "    return c1\n",
    "def flow_opt(c):\n",
    "\n",
    "    c =zx.optimize.basic_optimization(zx.Circuit.from_graph(c.to_graph().copy()).split_phase_gates())\n",
    "    g = c.to_graph()        \n",
    "    zx.teleport_reduce(g)\n",
    "    zx.to_graph_like(g)\n",
    "    zx.flow_2Q_simp(g)\n",
    "    c2 = zx.extract_simple(g).to_basic_gates()\n",
    "    return basic_optimise(c2)\n",
    "\n",
    "def flow_opt_graph(c):\n",
    "    c = zx.optimize.basic_optimization(zx.Circuit.from_graph(c.to_graph().copy()).split_phase_gates())\n",
    "    g = c.to_graph()\n",
    "    basic_circ = zx.optimize.basic_optimization(zx.Circuit.from_graph(g.copy()).split_phase_gates())\n",
    "    graph = basic_circ.to_graph()\n",
    "    zx.simplify.to_gh(graph)\n",
    "    zx.simplify.spider_simp(graph, quiet=True)\n",
    "    zx.to_graph_like(graph)\n",
    "    zx.flow_2Q_simp(graph)\n",
    "    circuit = zx.extract_simple(graph).to_basic_gates()\n",
    "    return basic_optimise(circuit)\n",
    "\n",
    "def full_reduce(c):\n",
    "    c = zx.optimize.basic_optimization(zx.Circuit.from_graph(c.to_graph().copy()).split_phase_gates())\n",
    "    g = c.to_graph()        \n",
    "    zx.teleport_reduce(g)\n",
    "    zx.to_graph_like(g)\n",
    "    zx.full_reduce(g)\n",
    "    circ = zx.extract_circuit(g).to_basic_gates()\n",
    "    return basic_optimise(circ)\n"
   ]
  }
 ],
 "metadata": {
  "kernelspec": {
   "display_name": "rl_zx",
   "language": "python",
   "name": "python3"
  },
  "language_info": {
   "codemirror_mode": {
    "name": "ipython",
    "version": 3
   },
   "file_extension": ".py",
   "mimetype": "text/x-python",
   "name": "python",
   "nbconvert_exporter": "python",
   "pygments_lexer": "ipython3",
   "version": "3.10.14"
  }
 },
 "nbformat": 4,
 "nbformat_minor": 2
}
